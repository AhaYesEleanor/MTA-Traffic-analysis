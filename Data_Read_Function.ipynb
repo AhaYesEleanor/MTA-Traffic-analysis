{
 "cells": [
  {
   "cell_type": "code",
   "execution_count": 20,
   "metadata": {},
   "outputs": [],
   "source": [
    "import datetime\n",
    "import pandas as pd\n",
    "from string import Template\n",
    "\n",
    "def get_MTA_data(startdate, enddate):\n",
    "    data = pd.DataFrame()\n",
    "    startdate = pd.to_datetime(startdate)  ### Assumption: Dates are Saturdays\n",
    "    enddate = pd.to_datetime(enddate)\n",
    "    \n",
    "   # url = 'http://web.mta.info/developers/data/nyct/turnstile/turnstile_180623.txt'\n",
    "    urlbase = Template('http://web.mta.info/developers/data/nyct/turnstile/turnstile_$date.txt')\n",
    "    \n",
    "    week = pd.Timedelta('7 days')\n",
    "    next_saturday = startdate\n",
    "    while(next_saturday <= enddate):\n",
    "        urlday = next_saturday.strftime('%y%m%d')\n",
    "        url = urlbase.substitute(date=urlday)\n",
    "        next_saturday = next_saturday+week\n",
    "        newdata = pd.read_csv(url)\n",
    "        data = pd.concat([data,newdata])\n",
    "        \n",
    "        \n",
    "   # url = urlbase.substitute(date=date)\n",
    "    return(data)\n",
    "    "
   ]
  },
  {
   "cell_type": "code",
   "execution_count": 21,
   "metadata": {},
   "outputs": [],
   "source": [
    "df = get_MTA_data('03/03/2018','06/30/2018')"
   ]
  },
  {
   "cell_type": "code",
   "execution_count": null,
   "metadata": {
    "collapsed": true
   },
   "outputs": [],
   "source": []
  }
 ],
 "metadata": {
  "kernelspec": {
   "display_name": "Python 3",
   "language": "python",
   "name": "python3"
  },
  "language_info": {
   "codemirror_mode": {
    "name": "ipython",
    "version": 3
   },
   "file_extension": ".py",
   "mimetype": "text/x-python",
   "name": "python",
   "nbconvert_exporter": "python",
   "pygments_lexer": "ipython3",
   "version": "3.6.1"
  }
 },
 "nbformat": 4,
 "nbformat_minor": 2
}
