{
 "cells": [
  {
   "cell_type": "code",
   "execution_count": 22,
   "metadata": {
    "collapsed": true
   },
   "outputs": [],
   "source": [
    "import pandas as pd\n",
    "import numpy as np\n",
    "import datetime\n",
    "from string import Template\n",
    "import matplotlib.pyplot as plt\n",
    "%matplotlib inline\n"
   ]
  },
  {
   "cell_type": "code",
   "execution_count": 2,
   "metadata": {
    "collapsed": true
   },
   "outputs": [],
   "source": [
    "def get_MTA_data(startdate, enddate):\n",
    "    data = pd.DataFrame()\n",
    "    startdate = pd.to_datetime(startdate)  ### Assumption: Dates are Saturdays\n",
    "    enddate = pd.to_datetime(enddate)\n",
    "    \n",
    "   # url = 'http://web.mta.info/developers/data/nyct/turnstile/turnstile_180623.txt'\n",
    "    urlbase = Template('http://web.mta.info/developers/data/nyct/turnstile/turnstile_$date.txt')\n",
    "    \n",
    "    week = pd.Timedelta('7 days')\n",
    "    next_saturday = startdate\n",
    "    while(next_saturday <= enddate):\n",
    "        urlday = next_saturday.strftime('%y%m%d')\n",
    "        url = urlbase.substitute(date=urlday)\n",
    "        next_saturday = next_saturday+week\n",
    "        newdata = pd.read_csv(url)\n",
    "        data = pd.concat([data,newdata])\n",
    "        \n",
    "        \n",
    "   # url = urlbase.substitute(date=date)\n",
    "    return(data)\n",
    "    \n",
    "\n",
    "\n"
   ]
  },
  {
   "cell_type": "code",
   "execution_count": 4,
   "metadata": {
    "collapsed": true
   },
   "outputs": [],
   "source": [
    "data = get_MTA_data('04/28/2018','06/30/2018')\n"
   ]
  },
  {
   "cell_type": "code",
   "execution_count": 5,
   "metadata": {
    "collapsed": true
   },
   "outputs": [],
   "source": [
    "data.to_pickle(\"MTA_Apr_June.pkl\")"
   ]
  },
  {
   "cell_type": "code",
   "execution_count": 95,
   "metadata": {},
   "outputs": [
    {
     "data": {
      "text/html": [
       "<div>\n",
       "<style scoped>\n",
       "    .dataframe tbody tr th:only-of-type {\n",
       "        vertical-align: middle;\n",
       "    }\n",
       "\n",
       "    .dataframe tbody tr th {\n",
       "        vertical-align: top;\n",
       "    }\n",
       "\n",
       "    .dataframe thead th {\n",
       "        text-align: right;\n",
       "    }\n",
       "</style>\n",
       "<table border=\"1\" class=\"dataframe\">\n",
       "  <thead>\n",
       "    <tr style=\"text-align: right;\">\n",
       "      <th></th>\n",
       "      <th>C/A</th>\n",
       "      <th>UNIT</th>\n",
       "      <th>SCP</th>\n",
       "      <th>STATION</th>\n",
       "      <th>LINENAME</th>\n",
       "      <th>DIVISION</th>\n",
       "      <th>DATE</th>\n",
       "      <th>TIME</th>\n",
       "      <th>DESC</th>\n",
       "      <th>ENTRIES</th>\n",
       "      <th>EXITS</th>\n",
       "      <th>date_time</th>\n",
       "      <th>turnstile_id</th>\n",
       "    </tr>\n",
       "    <tr>\n",
       "      <th>date_time</th>\n",
       "      <th></th>\n",
       "      <th></th>\n",
       "      <th></th>\n",
       "      <th></th>\n",
       "      <th></th>\n",
       "      <th></th>\n",
       "      <th></th>\n",
       "      <th></th>\n",
       "      <th></th>\n",
       "      <th></th>\n",
       "      <th></th>\n",
       "      <th></th>\n",
       "      <th></th>\n",
       "    </tr>\n",
       "  </thead>\n",
       "  <tbody>\n",
       "    <tr>\n",
       "      <th>2018-04-21 00:00:00</th>\n",
       "      <td>A002</td>\n",
       "      <td>R051</td>\n",
       "      <td>02-00-00</td>\n",
       "      <td>59 ST</td>\n",
       "      <td>NQR456W</td>\n",
       "      <td>BMT</td>\n",
       "      <td>04/21/2018</td>\n",
       "      <td>00:00:00</td>\n",
       "      <td>REGULAR</td>\n",
       "      <td>6590024</td>\n",
       "      <td>2232650</td>\n",
       "      <td>2018-04-21 00:00:00</td>\n",
       "      <td>59 ST_A002_R051_02-00-00</td>\n",
       "    </tr>\n",
       "    <tr>\n",
       "      <th>2018-04-21 04:00:00</th>\n",
       "      <td>A002</td>\n",
       "      <td>R051</td>\n",
       "      <td>02-00-00</td>\n",
       "      <td>59 ST</td>\n",
       "      <td>NQR456W</td>\n",
       "      <td>BMT</td>\n",
       "      <td>04/21/2018</td>\n",
       "      <td>04:00:00</td>\n",
       "      <td>REGULAR</td>\n",
       "      <td>6590038</td>\n",
       "      <td>2232663</td>\n",
       "      <td>2018-04-21 04:00:00</td>\n",
       "      <td>59 ST_A002_R051_02-00-00</td>\n",
       "    </tr>\n",
       "    <tr>\n",
       "      <th>2018-04-21 08:00:00</th>\n",
       "      <td>A002</td>\n",
       "      <td>R051</td>\n",
       "      <td>02-00-00</td>\n",
       "      <td>59 ST</td>\n",
       "      <td>NQR456W</td>\n",
       "      <td>BMT</td>\n",
       "      <td>04/21/2018</td>\n",
       "      <td>08:00:00</td>\n",
       "      <td>REGULAR</td>\n",
       "      <td>6590050</td>\n",
       "      <td>2232693</td>\n",
       "      <td>2018-04-21 08:00:00</td>\n",
       "      <td>59 ST_A002_R051_02-00-00</td>\n",
       "    </tr>\n",
       "    <tr>\n",
       "      <th>2018-04-21 12:00:00</th>\n",
       "      <td>A002</td>\n",
       "      <td>R051</td>\n",
       "      <td>02-00-00</td>\n",
       "      <td>59 ST</td>\n",
       "      <td>NQR456W</td>\n",
       "      <td>BMT</td>\n",
       "      <td>04/21/2018</td>\n",
       "      <td>12:00:00</td>\n",
       "      <td>REGULAR</td>\n",
       "      <td>6590131</td>\n",
       "      <td>2232766</td>\n",
       "      <td>2018-04-21 12:00:00</td>\n",
       "      <td>59 ST_A002_R051_02-00-00</td>\n",
       "    </tr>\n",
       "    <tr>\n",
       "      <th>2018-04-21 16:00:00</th>\n",
       "      <td>A002</td>\n",
       "      <td>R051</td>\n",
       "      <td>02-00-00</td>\n",
       "      <td>59 ST</td>\n",
       "      <td>NQR456W</td>\n",
       "      <td>BMT</td>\n",
       "      <td>04/21/2018</td>\n",
       "      <td>16:00:00</td>\n",
       "      <td>REGULAR</td>\n",
       "      <td>6590350</td>\n",
       "      <td>2232816</td>\n",
       "      <td>2018-04-21 16:00:00</td>\n",
       "      <td>59 ST_A002_R051_02-00-00</td>\n",
       "    </tr>\n",
       "  </tbody>\n",
       "</table>\n",
       "</div>"
      ],
      "text/plain": [
       "                      C/A  UNIT       SCP STATION LINENAME DIVISION  \\\n",
       "date_time                                                             \n",
       "2018-04-21 00:00:00  A002  R051  02-00-00   59 ST  NQR456W      BMT   \n",
       "2018-04-21 04:00:00  A002  R051  02-00-00   59 ST  NQR456W      BMT   \n",
       "2018-04-21 08:00:00  A002  R051  02-00-00   59 ST  NQR456W      BMT   \n",
       "2018-04-21 12:00:00  A002  R051  02-00-00   59 ST  NQR456W      BMT   \n",
       "2018-04-21 16:00:00  A002  R051  02-00-00   59 ST  NQR456W      BMT   \n",
       "\n",
       "                           DATE      TIME     DESC  ENTRIES    EXITS  \\\n",
       "date_time                                                              \n",
       "2018-04-21 00:00:00  04/21/2018  00:00:00  REGULAR  6590024  2232650   \n",
       "2018-04-21 04:00:00  04/21/2018  04:00:00  REGULAR  6590038  2232663   \n",
       "2018-04-21 08:00:00  04/21/2018  08:00:00  REGULAR  6590050  2232693   \n",
       "2018-04-21 12:00:00  04/21/2018  12:00:00  REGULAR  6590131  2232766   \n",
       "2018-04-21 16:00:00  04/21/2018  16:00:00  REGULAR  6590350  2232816   \n",
       "\n",
       "                              date_time              turnstile_id  \n",
       "date_time                                                          \n",
       "2018-04-21 00:00:00 2018-04-21 00:00:00  59 ST_A002_R051_02-00-00  \n",
       "2018-04-21 04:00:00 2018-04-21 04:00:00  59 ST_A002_R051_02-00-00  \n",
       "2018-04-21 08:00:00 2018-04-21 08:00:00  59 ST_A002_R051_02-00-00  \n",
       "2018-04-21 12:00:00 2018-04-21 12:00:00  59 ST_A002_R051_02-00-00  \n",
       "2018-04-21 16:00:00 2018-04-21 16:00:00  59 ST_A002_R051_02-00-00  "
      ]
     },
     "execution_count": 95,
     "metadata": {},
     "output_type": "execute_result"
    }
   ],
   "source": [
    "#with open('MTA_Apr_June.pkl','wb') correct pickle formats"
   ]
  },
  {
   "cell_type": "code",
   "execution_count": 96,
   "metadata": {},
   "outputs": [],
   "source": [
    "data.columns = [column.strip() for column in data.columns]"
   ]
  },
  {
   "cell_type": "code",
   "execution_count": 97,
   "metadata": {
    "collapsed": true
   },
   "outputs": [],
   "source": [
    "data['date_time'] = data['DATE']+' '+data['TIME']\n",
    "data['date_time'] = pd.to_datetime(data['date_time'])"
   ]
  },
  {
   "cell_type": "code",
   "execution_count": 98,
   "metadata": {},
   "outputs": [],
   "source": [
    "data.index = data['date_time']"
   ]
  },
  {
   "cell_type": "markdown",
   "metadata": {},
   "source": [
    "#3: Time Intervals"
   ]
  },
  {
   "cell_type": "markdown",
   "metadata": {},
   "source": [
    "Identifying unique turnstiles:"
   ]
  },
  {
   "cell_type": "code",
   "execution_count": 99,
   "metadata": {
    "collapsed": true
   },
   "outputs": [],
   "source": [
    "data['turnstile_id'] = data['STATION']+'_'+data['C/A']+'_'+data['UNIT']+'_'+data['SCP']"
   ]
  },
  {
   "cell_type": "code",
   "execution_count": null,
   "metadata": {
    "collapsed": true
   },
   "outputs": [],
   "source": [
    "def difference(srs):\n",
    "    return srs.max() - srs.min()"
   ]
  },
  {
   "cell_type": "code",
   "execution_count": null,
   "metadata": {
    "collapsed": true
   },
   "outputs": [],
   "source": [
    "df_daily = data.groupby(by=['turnstile_id', 'DATE']).agg(difference)"
   ]
  },
  {
   "cell_type": "code",
   "execution_count": null,
   "metadata": {
    "collapsed": true
   },
   "outputs": [],
   "source": [
    "by_station =  data.groupby(by=['STATION','turnstile_id', 'DATE']).agg(difference)"
   ]
  },
  {
   "cell_type": "code",
   "execution_count": null,
   "metadata": {
    "collapsed": true
   },
   "outputs": [],
   "source": [
    "daily_totals = by_station.groupby(by=['STATION','DATE']).sum()"
   ]
  },
  {
   "cell_type": "code",
   "execution_count": null,
   "metadata": {},
   "outputs": [],
   "source": [
    "\n",
    "daily_totals.reset_index(inplace=True)\n"
   ]
  },
  {
   "cell_type": "code",
   "execution_count": null,
   "metadata": {},
   "outputs": [],
   "source": [
    "daily_totals[\"DATE\"] = pd.to_datetime(daily_totals[\"DATE\"])"
   ]
  },
  {
   "cell_type": "code",
   "execution_count": null,
   "metadata": {
    "collapsed": true
   },
   "outputs": [],
   "source": [
    "daily_totals = daily_totals[daily_totals[\"ENTRIES\"]<200000]"
   ]
  },
  {
   "cell_type": "code",
   "execution_count": null,
   "metadata": {},
   "outputs": [],
   "source": [
    "\n",
    "daily_totals.index = daily_totals[\"DATE\"]\n",
    "\n",
    "###possible problem\n",
    "daily_totals_by_week = daily_totals.groupby(\"STATION\").resample('W', how='sum').reset_index()"
   ]
  },
  {
   "cell_type": "code",
   "execution_count": null,
   "metadata": {},
   "outputs": [],
   "source": [
    "daily_totals_by_week.head()"
   ]
  },
  {
   "cell_type": "code",
   "execution_count": null,
   "metadata": {},
   "outputs": [],
   "source": [
    "weekly_totals = daily_totals_by_week.groupby(\"STATION\").mean().reset_index()\n",
    "weekly_totals[\"mean_percentage\"] = (weekly_totals[\"ENTRIES\"]/weekly_totals[\"ENTRIES\"].sum())*100 ###possible problem"
   ]
  },
  {
   "cell_type": "code",
   "execution_count": null,
   "metadata": {},
   "outputs": [],
   "source": [
    "weekly_totals[\"ENTRIES\"].sum()"
   ]
  },
  {
   "cell_type": "code",
   "execution_count": 94,
   "metadata": {},
   "outputs": [
    {
     "data": {
      "text/plain": [
       "0.026636192357385926"
      ]
     },
     "execution_count": 94,
     "metadata": {},
     "output_type": "execute_result"
    }
   ],
   "source": [
    "784022.727273/29434489.61298701"
   ]
  },
  {
   "cell_type": "code",
   "execution_count": 92,
   "metadata": {},
   "outputs": [
    {
     "data": {
      "text/html": [
       "<div>\n",
       "<style scoped>\n",
       "    .dataframe tbody tr th:only-of-type {\n",
       "        vertical-align: middle;\n",
       "    }\n",
       "\n",
       "    .dataframe tbody tr th {\n",
       "        vertical-align: top;\n",
       "    }\n",
       "\n",
       "    .dataframe thead th {\n",
       "        text-align: right;\n",
       "    }\n",
       "</style>\n",
       "<table border=\"1\" class=\"dataframe\">\n",
       "  <thead>\n",
       "    <tr style=\"text-align: right;\">\n",
       "      <th></th>\n",
       "      <th>STATION</th>\n",
       "      <th>ENTRIES</th>\n",
       "      <th>EXITS</th>\n",
       "      <th>mean_percentage</th>\n",
       "    </tr>\n",
       "  </thead>\n",
       "  <tbody>\n",
       "    <tr>\n",
       "      <th>60</th>\n",
       "      <td>34 ST-PENN STA</td>\n",
       "      <td>784022.727273</td>\n",
       "      <td>678365.545455</td>\n",
       "      <td>2.663619</td>\n",
       "    </tr>\n",
       "    <tr>\n",
       "      <th>232</th>\n",
       "      <td>GRD CNTRL-42 ST</td>\n",
       "      <td>720653.636364</td>\n",
       "      <td>690145.181818</td>\n",
       "      <td>2.448331</td>\n",
       "    </tr>\n",
       "    <tr>\n",
       "      <th>58</th>\n",
       "      <td>34 ST-HERALD SQ</td>\n",
       "      <td>594431.181818</td>\n",
       "      <td>560372.909091</td>\n",
       "      <td>2.019506</td>\n",
       "    </tr>\n",
       "    <tr>\n",
       "      <th>45</th>\n",
       "      <td>23 ST</td>\n",
       "      <td>546372.636364</td>\n",
       "      <td>424825.909091</td>\n",
       "      <td>1.856233</td>\n",
       "    </tr>\n",
       "    <tr>\n",
       "      <th>14</th>\n",
       "      <td>14 ST-UNION SQ</td>\n",
       "      <td>521808.545455</td>\n",
       "      <td>488234.545455</td>\n",
       "      <td>1.772779</td>\n",
       "    </tr>\n",
       "    <tr>\n",
       "      <th>67</th>\n",
       "      <td>42 ST-PORT AUTH</td>\n",
       "      <td>512094.909091</td>\n",
       "      <td>389535.545455</td>\n",
       "      <td>1.739778</td>\n",
       "    </tr>\n",
       "    <tr>\n",
       "      <th>225</th>\n",
       "      <td>FULTON ST</td>\n",
       "      <td>496950.000000</td>\n",
       "      <td>418912.454545</td>\n",
       "      <td>1.688326</td>\n",
       "    </tr>\n",
       "    <tr>\n",
       "      <th>352</th>\n",
       "      <td>TIMES SQ-42 ST</td>\n",
       "      <td>463714.818182</td>\n",
       "      <td>489350.181818</td>\n",
       "      <td>1.575413</td>\n",
       "    </tr>\n",
       "    <tr>\n",
       "      <th>109</th>\n",
       "      <td>86 ST</td>\n",
       "      <td>421655.181818</td>\n",
       "      <td>368532.090909</td>\n",
       "      <td>1.432521</td>\n",
       "    </tr>\n",
       "    <tr>\n",
       "      <th>9</th>\n",
       "      <td>125 ST</td>\n",
       "      <td>414684.000000</td>\n",
       "      <td>316211.909091</td>\n",
       "      <td>1.408837</td>\n",
       "    </tr>\n",
       "  </tbody>\n",
       "</table>\n",
       "</div>"
      ],
      "text/plain": [
       "             STATION        ENTRIES          EXITS  mean_percentage\n",
       "60    34 ST-PENN STA  784022.727273  678365.545455         2.663619\n",
       "232  GRD CNTRL-42 ST  720653.636364  690145.181818         2.448331\n",
       "58   34 ST-HERALD SQ  594431.181818  560372.909091         2.019506\n",
       "45             23 ST  546372.636364  424825.909091         1.856233\n",
       "14    14 ST-UNION SQ  521808.545455  488234.545455         1.772779\n",
       "67   42 ST-PORT AUTH  512094.909091  389535.545455         1.739778\n",
       "225        FULTON ST  496950.000000  418912.454545         1.688326\n",
       "352   TIMES SQ-42 ST  463714.818182  489350.181818         1.575413\n",
       "109            86 ST  421655.181818  368532.090909         1.432521\n",
       "9             125 ST  414684.000000  316211.909091         1.408837"
      ]
     },
     "execution_count": 92,
     "metadata": {},
     "output_type": "execute_result"
    }
   ],
   "source": [
    "weekly_totals.sort_values(\"ENTRIES\",ascending=False).head(10)"
   ]
  },
  {
   "cell_type": "code",
   "execution_count": null,
   "metadata": {
    "collapsed": true
   },
   "outputs": [],
   "source": []
  },
  {
   "cell_type": "code",
   "execution_count": 87,
   "metadata": {
    "collapsed": true
   },
   "outputs": [],
   "source": [
    "import pickle\n",
    "with open('Benson_full_analysis.pickle_v2', 'wb') as to_write:\n",
    "    pickle.dump(weekly_totals, to_write)"
   ]
  },
  {
   "cell_type": "code",
   "execution_count": null,
   "metadata": {
    "collapsed": true
   },
   "outputs": [],
   "source": []
  }
 ],
 "metadata": {
  "kernelspec": {
   "display_name": "Python 3",
   "language": "python",
   "name": "python3"
  },
  "language_info": {
   "codemirror_mode": {
    "name": "ipython",
    "version": 3
   },
   "file_extension": ".py",
   "mimetype": "text/x-python",
   "name": "python",
   "nbconvert_exporter": "python",
   "pygments_lexer": "ipython3",
   "version": "3.6.1"
  }
 },
 "nbformat": 4,
 "nbformat_minor": 2
}
