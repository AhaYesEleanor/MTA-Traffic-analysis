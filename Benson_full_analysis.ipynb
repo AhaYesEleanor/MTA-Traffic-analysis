{
 "cells": [
  {
   "cell_type": "code",
   "execution_count": 22,
   "metadata": {
    "collapsed": true
   },
   "outputs": [],
   "source": [
    "import pandas as pd\n",
    "import numpy as np\n",
    "import datetime\n",
    "from string import Template\n",
    "import matplotlib.pyplot as plt\n",
    "%matplotlib inline\n"
   ]
  },
  {
   "cell_type": "code",
   "execution_count": 2,
   "metadata": {
    "collapsed": true
   },
   "outputs": [],
   "source": [
    "def get_MTA_data(startdate, enddate):\n",
    "    data = pd.DataFrame()\n",
    "    startdate = pd.to_datetime(startdate)  ### Assumption: Dates are Saturdays\n",
    "    enddate = pd.to_datetime(enddate)\n",
    "    \n",
    "   # url = 'http://web.mta.info/developers/data/nyct/turnstile/turnstile_180623.txt'\n",
    "    urlbase = Template('http://web.mta.info/developers/data/nyct/turnstile/turnstile_$date.txt')\n",
    "    \n",
    "    week = pd.Timedelta('7 days')\n",
    "    next_saturday = startdate\n",
    "    while(next_saturday <= enddate):\n",
    "        urlday = next_saturday.strftime('%y%m%d')\n",
    "        url = urlbase.substitute(date=urlday)\n",
    "        next_saturday = next_saturday+week\n",
    "        newdata = pd.read_csv(url)\n",
    "        data = pd.concat([data,newdata])\n",
    "        \n",
    "        \n",
    "   # url = urlbase.substitute(date=date)\n",
    "    return(data)\n",
    "    \n",
    "\n",
    "\n"
   ]
  },
  {
   "cell_type": "code",
   "execution_count": 4,
   "metadata": {
    "collapsed": true
   },
   "outputs": [],
   "source": [
    "data = get_MTA_data('04/28/2018','06/30/2018')\n"
   ]
  },
  {
   "cell_type": "code",
   "execution_count": 5,
   "metadata": {
    "collapsed": true
   },
   "outputs": [],
   "source": [
    "data.to_pickle(\"MTA_Apr_June.pkl\")"
   ]
  },
  {
   "cell_type": "code",
   "execution_count": 5,
   "metadata": {},
   "outputs": [
    {
     "data": {
      "text/html": [
       "<div>\n",
       "<style scoped>\n",
       "    .dataframe tbody tr th:only-of-type {\n",
       "        vertical-align: middle;\n",
       "    }\n",
       "\n",
       "    .dataframe tbody tr th {\n",
       "        vertical-align: top;\n",
       "    }\n",
       "\n",
       "    .dataframe thead th {\n",
       "        text-align: right;\n",
       "    }\n",
       "</style>\n",
       "<table border=\"1\" class=\"dataframe\">\n",
       "  <thead>\n",
       "    <tr style=\"text-align: right;\">\n",
       "      <th></th>\n",
       "      <th>C/A</th>\n",
       "      <th>UNIT</th>\n",
       "      <th>SCP</th>\n",
       "      <th>STATION</th>\n",
       "      <th>LINENAME</th>\n",
       "      <th>DIVISION</th>\n",
       "      <th>DATE</th>\n",
       "      <th>TIME</th>\n",
       "      <th>DESC</th>\n",
       "      <th>ENTRIES</th>\n",
       "      <th>EXITS</th>\n",
       "    </tr>\n",
       "  </thead>\n",
       "  <tbody>\n",
       "    <tr>\n",
       "      <th>0</th>\n",
       "      <td>A002</td>\n",
       "      <td>R051</td>\n",
       "      <td>02-00-00</td>\n",
       "      <td>59 ST</td>\n",
       "      <td>NQR456W</td>\n",
       "      <td>BMT</td>\n",
       "      <td>06/23/2018</td>\n",
       "      <td>00:00:00</td>\n",
       "      <td>REGULAR</td>\n",
       "      <td>6667150</td>\n",
       "      <td>2259901</td>\n",
       "    </tr>\n",
       "    <tr>\n",
       "      <th>1</th>\n",
       "      <td>A002</td>\n",
       "      <td>R051</td>\n",
       "      <td>02-00-00</td>\n",
       "      <td>59 ST</td>\n",
       "      <td>NQR456W</td>\n",
       "      <td>BMT</td>\n",
       "      <td>06/23/2018</td>\n",
       "      <td>04:00:00</td>\n",
       "      <td>REGULAR</td>\n",
       "      <td>6667173</td>\n",
       "      <td>2259909</td>\n",
       "    </tr>\n",
       "    <tr>\n",
       "      <th>2</th>\n",
       "      <td>A002</td>\n",
       "      <td>R051</td>\n",
       "      <td>02-00-00</td>\n",
       "      <td>59 ST</td>\n",
       "      <td>NQR456W</td>\n",
       "      <td>BMT</td>\n",
       "      <td>06/23/2018</td>\n",
       "      <td>08:00:00</td>\n",
       "      <td>REGULAR</td>\n",
       "      <td>6667189</td>\n",
       "      <td>2259938</td>\n",
       "    </tr>\n",
       "    <tr>\n",
       "      <th>3</th>\n",
       "      <td>A002</td>\n",
       "      <td>R051</td>\n",
       "      <td>02-00-00</td>\n",
       "      <td>59 ST</td>\n",
       "      <td>NQR456W</td>\n",
       "      <td>BMT</td>\n",
       "      <td>06/23/2018</td>\n",
       "      <td>12:00:00</td>\n",
       "      <td>REGULAR</td>\n",
       "      <td>6667305</td>\n",
       "      <td>2260006</td>\n",
       "    </tr>\n",
       "    <tr>\n",
       "      <th>4</th>\n",
       "      <td>A002</td>\n",
       "      <td>R051</td>\n",
       "      <td>02-00-00</td>\n",
       "      <td>59 ST</td>\n",
       "      <td>NQR456W</td>\n",
       "      <td>BMT</td>\n",
       "      <td>06/23/2018</td>\n",
       "      <td>16:00:00</td>\n",
       "      <td>REGULAR</td>\n",
       "      <td>6667534</td>\n",
       "      <td>2260066</td>\n",
       "    </tr>\n",
       "  </tbody>\n",
       "</table>\n",
       "</div>"
      ],
      "text/plain": [
       "    C/A  UNIT       SCP STATION LINENAME DIVISION        DATE      TIME  \\\n",
       "0  A002  R051  02-00-00   59 ST  NQR456W      BMT  06/23/2018  00:00:00   \n",
       "1  A002  R051  02-00-00   59 ST  NQR456W      BMT  06/23/2018  04:00:00   \n",
       "2  A002  R051  02-00-00   59 ST  NQR456W      BMT  06/23/2018  08:00:00   \n",
       "3  A002  R051  02-00-00   59 ST  NQR456W      BMT  06/23/2018  12:00:00   \n",
       "4  A002  R051  02-00-00   59 ST  NQR456W      BMT  06/23/2018  16:00:00   \n",
       "\n",
       "      DESC  ENTRIES  \\\n",
       "0  REGULAR  6667150   \n",
       "1  REGULAR  6667173   \n",
       "2  REGULAR  6667189   \n",
       "3  REGULAR  6667305   \n",
       "4  REGULAR  6667534   \n",
       "\n",
       "   EXITS                                                                 \n",
       "0                                            2259901                     \n",
       "1                                            2259909                     \n",
       "2                                            2259938                     \n",
       "3                                            2260006                     \n",
       "4                                            2260066                     "
      ]
     },
     "execution_count": 5,
     "metadata": {},
     "output_type": "execute_result"
    }
   ],
   "source": [
    "data.head()"
   ]
  },
  {
   "cell_type": "code",
   "execution_count": 8,
   "metadata": {},
   "outputs": [],
   "source": [
    "data.columns = [column.strip() for column in data.columns]"
   ]
  },
  {
   "cell_type": "code",
   "execution_count": 9,
   "metadata": {
    "collapsed": true
   },
   "outputs": [],
   "source": [
    "data['date_time'] = data['DATE']+' '+data['TIME']\n",
    "data['date_time'] = pd.to_datetime(data['date_time'])"
   ]
  },
  {
   "cell_type": "code",
   "execution_count": 10,
   "metadata": {},
   "outputs": [],
   "source": [
    "data.index = data['date_time']"
   ]
  },
  {
   "cell_type": "markdown",
   "metadata": {},
   "source": [
    "#3: Time Intervals"
   ]
  },
  {
   "cell_type": "markdown",
   "metadata": {},
   "source": [
    "Identifying unique turnstiles:"
   ]
  },
  {
   "cell_type": "code",
   "execution_count": 11,
   "metadata": {
    "collapsed": true
   },
   "outputs": [],
   "source": [
    "data['turnstile_id'] = data['STATION']+'_'+data['C/A']+'_'+data['UNIT']+'_'+data['SCP']"
   ]
  },
  {
   "cell_type": "code",
   "execution_count": 12,
   "metadata": {
    "collapsed": true
   },
   "outputs": [],
   "source": [
    "def difference(srs):\n",
    "    return srs.max() - srs.min()"
   ]
  },
  {
   "cell_type": "code",
   "execution_count": 13,
   "metadata": {
    "collapsed": true
   },
   "outputs": [],
   "source": [
    "df_daily = data.groupby(by=['turnstile_id', 'DATE']).agg(difference)"
   ]
  },
  {
   "cell_type": "code",
   "execution_count": 14,
   "metadata": {
    "collapsed": true
   },
   "outputs": [],
   "source": [
    "by_station =  data.groupby(by=['STATION','turnstile_id', 'DATE']).agg(difference)"
   ]
  },
  {
   "cell_type": "code",
   "execution_count": 15,
   "metadata": {
    "collapsed": true
   },
   "outputs": [],
   "source": [
    "daily_totals = by_station.groupby(by=['STATION','DATE']).sum()"
   ]
  },
  {
   "cell_type": "code",
   "execution_count": 16,
   "metadata": {},
   "outputs": [],
   "source": [
    "\n",
    "daily_totals.reset_index(inplace=True)\n"
   ]
  },
  {
   "cell_type": "code",
   "execution_count": 17,
   "metadata": {},
   "outputs": [],
   "source": [
    "daily_totals[\"DATE\"] = pd.to_datetime(daily_totals[\"DATE\"])"
   ]
  },
  {
   "cell_type": "code",
   "execution_count": 19,
   "metadata": {
    "collapsed": true
   },
   "outputs": [],
   "source": [
    "daily_totals = daily_totals[daily_totals[\"ENTRIES\"]<200000]"
   ]
  },
  {
   "cell_type": "code",
   "execution_count": 81,
   "metadata": {},
   "outputs": [
    {
     "name": "stderr",
     "output_type": "stream",
     "text": [
      "C:\\Users\\Aditya\\Anaconda3\\lib\\site-packages\\pandas\\core\\groupby.py:1324: FutureWarning: how in .resample() is deprecated\n",
      "the new syntax is .resample(...).sum()\n",
      "  return get_resampler_for_grouping(self, rule, *args, **kwargs)\n"
     ]
    }
   ],
   "source": [
    "\n",
    "daily_totals.index = daily_totals[\"DATE\"]\n",
    "\n",
    "\n",
    "daily_totals_by_week = daily_totals.groupby(\"STATION\").resample('W', how='sum').reset_index()"
   ]
  },
  {
   "cell_type": "code",
   "execution_count": 82,
   "metadata": {},
   "outputs": [
    {
     "data": {
      "text/html": [
       "<div>\n",
       "<style scoped>\n",
       "    .dataframe tbody tr th:only-of-type {\n",
       "        vertical-align: middle;\n",
       "    }\n",
       "\n",
       "    .dataframe tbody tr th {\n",
       "        vertical-align: top;\n",
       "    }\n",
       "\n",
       "    .dataframe thead th {\n",
       "        text-align: right;\n",
       "    }\n",
       "</style>\n",
       "<table border=\"1\" class=\"dataframe\">\n",
       "  <thead>\n",
       "    <tr style=\"text-align: right;\">\n",
       "      <th></th>\n",
       "      <th>STATION</th>\n",
       "      <th>DATE</th>\n",
       "      <th>ENTRIES</th>\n",
       "      <th>EXITS</th>\n",
       "    </tr>\n",
       "  </thead>\n",
       "  <tbody>\n",
       "    <tr>\n",
       "      <th>0</th>\n",
       "      <td>1 AV</td>\n",
       "      <td>2018-04-22</td>\n",
       "      <td>28487</td>\n",
       "      <td>32063</td>\n",
       "    </tr>\n",
       "    <tr>\n",
       "      <th>1</th>\n",
       "      <td>1 AV</td>\n",
       "      <td>2018-04-29</td>\n",
       "      <td>122962</td>\n",
       "      <td>138641</td>\n",
       "    </tr>\n",
       "    <tr>\n",
       "      <th>2</th>\n",
       "      <td>1 AV</td>\n",
       "      <td>2018-05-06</td>\n",
       "      <td>122329</td>\n",
       "      <td>137672</td>\n",
       "    </tr>\n",
       "    <tr>\n",
       "      <th>3</th>\n",
       "      <td>1 AV</td>\n",
       "      <td>2018-05-13</td>\n",
       "      <td>118740</td>\n",
       "      <td>133792</td>\n",
       "    </tr>\n",
       "    <tr>\n",
       "      <th>4</th>\n",
       "      <td>1 AV</td>\n",
       "      <td>2018-05-20</td>\n",
       "      <td>123731</td>\n",
       "      <td>141572</td>\n",
       "    </tr>\n",
       "  </tbody>\n",
       "</table>\n",
       "</div>"
      ],
      "text/plain": [
       "  STATION       DATE  ENTRIES   EXITS\n",
       "0    1 AV 2018-04-22    28487   32063\n",
       "1    1 AV 2018-04-29   122962  138641\n",
       "2    1 AV 2018-05-06   122329  137672\n",
       "3    1 AV 2018-05-13   118740  133792\n",
       "4    1 AV 2018-05-20   123731  141572"
      ]
     },
     "execution_count": 82,
     "metadata": {},
     "output_type": "execute_result"
    }
   ],
   "source": [
    "daily_totals_by_week.head()"
   ]
  },
  {
   "cell_type": "code",
   "execution_count": 85,
   "metadata": {},
   "outputs": [],
   "source": [
    "weekly_totals = daily_totals_by_week.groupby(\"STATION\").mean().reset_index()\n",
    "weekly_totals[\"mean_percentage\"] = (weekly_totals[\"ENTRIES\"]/weekly_totals[\"ENTRIES\"].sum())*len(weekly_totals)"
   ]
  },
  {
   "cell_type": "code",
   "execution_count": 86,
   "metadata": {},
   "outputs": [
    {
     "data": {
      "text/html": [
       "<div>\n",
       "<style scoped>\n",
       "    .dataframe tbody tr th:only-of-type {\n",
       "        vertical-align: middle;\n",
       "    }\n",
       "\n",
       "    .dataframe tbody tr th {\n",
       "        vertical-align: top;\n",
       "    }\n",
       "\n",
       "    .dataframe thead th {\n",
       "        text-align: right;\n",
       "    }\n",
       "</style>\n",
       "<table border=\"1\" class=\"dataframe\">\n",
       "  <thead>\n",
       "    <tr style=\"text-align: right;\">\n",
       "      <th></th>\n",
       "      <th>STATION</th>\n",
       "      <th>ENTRIES</th>\n",
       "      <th>EXITS</th>\n",
       "      <th>mean_percentage</th>\n",
       "    </tr>\n",
       "  </thead>\n",
       "  <tbody>\n",
       "    <tr>\n",
       "      <th>60</th>\n",
       "      <td>34 ST-PENN STA</td>\n",
       "      <td>784022.727273</td>\n",
       "      <td>678365.545455</td>\n",
       "      <td>10.041845</td>\n",
       "    </tr>\n",
       "    <tr>\n",
       "      <th>232</th>\n",
       "      <td>GRD CNTRL-42 ST</td>\n",
       "      <td>720653.636364</td>\n",
       "      <td>690145.181818</td>\n",
       "      <td>9.230207</td>\n",
       "    </tr>\n",
       "    <tr>\n",
       "      <th>58</th>\n",
       "      <td>34 ST-HERALD SQ</td>\n",
       "      <td>594431.181818</td>\n",
       "      <td>560372.909091</td>\n",
       "      <td>7.613536</td>\n",
       "    </tr>\n",
       "    <tr>\n",
       "      <th>45</th>\n",
       "      <td>23 ST</td>\n",
       "      <td>546372.636364</td>\n",
       "      <td>424825.909091</td>\n",
       "      <td>6.997997</td>\n",
       "    </tr>\n",
       "    <tr>\n",
       "      <th>14</th>\n",
       "      <td>14 ST-UNION SQ</td>\n",
       "      <td>521808.545455</td>\n",
       "      <td>488234.545455</td>\n",
       "      <td>6.683378</td>\n",
       "    </tr>\n",
       "  </tbody>\n",
       "</table>\n",
       "</div>"
      ],
      "text/plain": [
       "             STATION        ENTRIES          EXITS  mean_percentage\n",
       "60    34 ST-PENN STA  784022.727273  678365.545455        10.041845\n",
       "232  GRD CNTRL-42 ST  720653.636364  690145.181818         9.230207\n",
       "58   34 ST-HERALD SQ  594431.181818  560372.909091         7.613536\n",
       "45             23 ST  546372.636364  424825.909091         6.997997\n",
       "14    14 ST-UNION SQ  521808.545455  488234.545455         6.683378"
      ]
     },
     "execution_count": 86,
     "metadata": {},
     "output_type": "execute_result"
    }
   ],
   "source": [
    "weekly_totals.sort_values(\"ENTRIES\",ascending=False).head()"
   ]
  },
  {
   "cell_type": "code",
   "execution_count": null,
   "metadata": {
    "collapsed": true
   },
   "outputs": [],
   "source": []
  }
 ],
 "metadata": {
  "kernelspec": {
   "display_name": "Python 3",
   "language": "python",
   "name": "python3"
  },
  "language_info": {
   "codemirror_mode": {
    "name": "ipython",
    "version": 3
   },
   "file_extension": ".py",
   "mimetype": "text/x-python",
   "name": "python",
   "nbconvert_exporter": "python",
   "pygments_lexer": "ipython3",
   "version": "3.6.1"
  }
 },
 "nbformat": 4,
 "nbformat_minor": 2
}
