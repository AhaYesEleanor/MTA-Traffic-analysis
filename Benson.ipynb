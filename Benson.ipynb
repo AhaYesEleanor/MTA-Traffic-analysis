{
 "cells": [
  {
   "cell_type": "code",
   "execution_count": 2,
   "metadata": {
    "collapsed": true
   },
   "outputs": [],
   "source": [
    "import pandas as pd\n",
    "import numpy as np\n",
    "import datetime\n",
    "\n",
    "%matplotlib inline\n",
    "\n"
   ]
  },
  {
   "cell_type": "code",
   "execution_count": null,
   "metadata": {
    "collapsed": true
   },
   "outputs": [],
   "source": [
    "data = pd.read_csv('http://web.mta.info/developers/data/nyct/turnstile/turnstile_180630.txt')"
   ]
  },
  {
   "cell_type": "code",
   "execution_count": 5,
   "metadata": {},
   "outputs": [
    {
     "data": {
      "text/html": [
       "<div>\n",
       "<style scoped>\n",
       "    .dataframe tbody tr th:only-of-type {\n",
       "        vertical-align: middle;\n",
       "    }\n",
       "\n",
       "    .dataframe tbody tr th {\n",
       "        vertical-align: top;\n",
       "    }\n",
       "\n",
       "    .dataframe thead th {\n",
       "        text-align: right;\n",
       "    }\n",
       "</style>\n",
       "<table border=\"1\" class=\"dataframe\">\n",
       "  <thead>\n",
       "    <tr style=\"text-align: right;\">\n",
       "      <th></th>\n",
       "      <th>C/A</th>\n",
       "      <th>UNIT</th>\n",
       "      <th>SCP</th>\n",
       "      <th>STATION</th>\n",
       "      <th>LINENAME</th>\n",
       "      <th>DIVISION</th>\n",
       "      <th>DATE</th>\n",
       "      <th>TIME</th>\n",
       "      <th>DESC</th>\n",
       "      <th>ENTRIES</th>\n",
       "      <th>EXITS</th>\n",
       "    </tr>\n",
       "  </thead>\n",
       "  <tbody>\n",
       "    <tr>\n",
       "      <th>0</th>\n",
       "      <td>A002</td>\n",
       "      <td>R051</td>\n",
       "      <td>02-00-00</td>\n",
       "      <td>59 ST</td>\n",
       "      <td>NQR456W</td>\n",
       "      <td>BMT</td>\n",
       "      <td>06/23/2018</td>\n",
       "      <td>00:00:00</td>\n",
       "      <td>REGULAR</td>\n",
       "      <td>6667150</td>\n",
       "      <td>2259901</td>\n",
       "    </tr>\n",
       "    <tr>\n",
       "      <th>1</th>\n",
       "      <td>A002</td>\n",
       "      <td>R051</td>\n",
       "      <td>02-00-00</td>\n",
       "      <td>59 ST</td>\n",
       "      <td>NQR456W</td>\n",
       "      <td>BMT</td>\n",
       "      <td>06/23/2018</td>\n",
       "      <td>04:00:00</td>\n",
       "      <td>REGULAR</td>\n",
       "      <td>6667173</td>\n",
       "      <td>2259909</td>\n",
       "    </tr>\n",
       "    <tr>\n",
       "      <th>2</th>\n",
       "      <td>A002</td>\n",
       "      <td>R051</td>\n",
       "      <td>02-00-00</td>\n",
       "      <td>59 ST</td>\n",
       "      <td>NQR456W</td>\n",
       "      <td>BMT</td>\n",
       "      <td>06/23/2018</td>\n",
       "      <td>08:00:00</td>\n",
       "      <td>REGULAR</td>\n",
       "      <td>6667189</td>\n",
       "      <td>2259938</td>\n",
       "    </tr>\n",
       "    <tr>\n",
       "      <th>3</th>\n",
       "      <td>A002</td>\n",
       "      <td>R051</td>\n",
       "      <td>02-00-00</td>\n",
       "      <td>59 ST</td>\n",
       "      <td>NQR456W</td>\n",
       "      <td>BMT</td>\n",
       "      <td>06/23/2018</td>\n",
       "      <td>12:00:00</td>\n",
       "      <td>REGULAR</td>\n",
       "      <td>6667305</td>\n",
       "      <td>2260006</td>\n",
       "    </tr>\n",
       "    <tr>\n",
       "      <th>4</th>\n",
       "      <td>A002</td>\n",
       "      <td>R051</td>\n",
       "      <td>02-00-00</td>\n",
       "      <td>59 ST</td>\n",
       "      <td>NQR456W</td>\n",
       "      <td>BMT</td>\n",
       "      <td>06/23/2018</td>\n",
       "      <td>16:00:00</td>\n",
       "      <td>REGULAR</td>\n",
       "      <td>6667534</td>\n",
       "      <td>2260066</td>\n",
       "    </tr>\n",
       "  </tbody>\n",
       "</table>\n",
       "</div>"
      ],
      "text/plain": [
       "    C/A  UNIT       SCP STATION LINENAME DIVISION        DATE      TIME  \\\n",
       "0  A002  R051  02-00-00   59 ST  NQR456W      BMT  06/23/2018  00:00:00   \n",
       "1  A002  R051  02-00-00   59 ST  NQR456W      BMT  06/23/2018  04:00:00   \n",
       "2  A002  R051  02-00-00   59 ST  NQR456W      BMT  06/23/2018  08:00:00   \n",
       "3  A002  R051  02-00-00   59 ST  NQR456W      BMT  06/23/2018  12:00:00   \n",
       "4  A002  R051  02-00-00   59 ST  NQR456W      BMT  06/23/2018  16:00:00   \n",
       "\n",
       "      DESC  ENTRIES  \\\n",
       "0  REGULAR  6667150   \n",
       "1  REGULAR  6667173   \n",
       "2  REGULAR  6667189   \n",
       "3  REGULAR  6667305   \n",
       "4  REGULAR  6667534   \n",
       "\n",
       "   EXITS                                                                 \n",
       "0                                            2259901                     \n",
       "1                                            2259909                     \n",
       "2                                            2259938                     \n",
       "3                                            2260006                     \n",
       "4                                            2260066                     "
      ]
     },
     "execution_count": 5,
     "metadata": {},
     "output_type": "execute_result"
    }
   ],
   "source": [
    "data.head()"
   ]
  },
  {
   "cell_type": "code",
   "execution_count": 6,
   "metadata": {},
   "outputs": [
    {
     "name": "stdout",
     "output_type": "stream",
     "text": [
      "<class 'pandas.core.frame.DataFrame'>\n",
      "RangeIndex: 196690 entries, 0 to 196689\n",
      "Data columns (total 11 columns):\n",
      "C/A                                                                     196690 non-null object\n",
      "UNIT                                                                    196690 non-null object\n",
      "SCP                                                                     196690 non-null object\n",
      "STATION                                                                 196690 non-null object\n",
      "LINENAME                                                                196690 non-null object\n",
      "DIVISION                                                                196690 non-null object\n",
      "DATE                                                                    196690 non-null object\n",
      "TIME                                                                    196690 non-null object\n",
      "DESC                                                                    196690 non-null object\n",
      "ENTRIES                                                                 196690 non-null int64\n",
      "EXITS                                                                   196690 non-null int64\n",
      "dtypes: int64(2), object(9)\n",
      "memory usage: 16.5+ MB\n"
     ]
    }
   ],
   "source": [
    "data.info()"
   ]
  },
  {
   "cell_type": "code",
   "execution_count": 7,
   "metadata": {
    "collapsed": true
   },
   "outputs": [],
   "source": [
    "data['date_time'] = data['DATE']+' '+data['TIME']\n",
    "data['date_time'] = pd.to_datetime(data['date_time'])"
   ]
  },
  {
   "cell_type": "code",
   "execution_count": 8,
   "metadata": {},
   "outputs": [
    {
     "data": {
      "text/html": [
       "<div>\n",
       "<style scoped>\n",
       "    .dataframe tbody tr th:only-of-type {\n",
       "        vertical-align: middle;\n",
       "    }\n",
       "\n",
       "    .dataframe tbody tr th {\n",
       "        vertical-align: top;\n",
       "    }\n",
       "\n",
       "    .dataframe thead th {\n",
       "        text-align: right;\n",
       "    }\n",
       "</style>\n",
       "<table border=\"1\" class=\"dataframe\">\n",
       "  <thead>\n",
       "    <tr style=\"text-align: right;\">\n",
       "      <th></th>\n",
       "      <th>C/A</th>\n",
       "      <th>UNIT</th>\n",
       "      <th>SCP</th>\n",
       "      <th>STATION</th>\n",
       "      <th>LINENAME</th>\n",
       "      <th>DIVISION</th>\n",
       "      <th>DATE</th>\n",
       "      <th>TIME</th>\n",
       "      <th>DESC</th>\n",
       "      <th>ENTRIES</th>\n",
       "      <th>EXITS</th>\n",
       "      <th>date_time</th>\n",
       "    </tr>\n",
       "    <tr>\n",
       "      <th>date_time</th>\n",
       "      <th></th>\n",
       "      <th></th>\n",
       "      <th></th>\n",
       "      <th></th>\n",
       "      <th></th>\n",
       "      <th></th>\n",
       "      <th></th>\n",
       "      <th></th>\n",
       "      <th></th>\n",
       "      <th></th>\n",
       "      <th></th>\n",
       "      <th></th>\n",
       "    </tr>\n",
       "  </thead>\n",
       "  <tbody>\n",
       "    <tr>\n",
       "      <th>2018-06-23 00:00:00</th>\n",
       "      <td>A002</td>\n",
       "      <td>R051</td>\n",
       "      <td>02-00-00</td>\n",
       "      <td>59 ST</td>\n",
       "      <td>NQR456W</td>\n",
       "      <td>BMT</td>\n",
       "      <td>06/23/2018</td>\n",
       "      <td>00:00:00</td>\n",
       "      <td>REGULAR</td>\n",
       "      <td>6667150</td>\n",
       "      <td>2259901</td>\n",
       "      <td>2018-06-23 00:00:00</td>\n",
       "    </tr>\n",
       "    <tr>\n",
       "      <th>2018-06-23 04:00:00</th>\n",
       "      <td>A002</td>\n",
       "      <td>R051</td>\n",
       "      <td>02-00-00</td>\n",
       "      <td>59 ST</td>\n",
       "      <td>NQR456W</td>\n",
       "      <td>BMT</td>\n",
       "      <td>06/23/2018</td>\n",
       "      <td>04:00:00</td>\n",
       "      <td>REGULAR</td>\n",
       "      <td>6667173</td>\n",
       "      <td>2259909</td>\n",
       "      <td>2018-06-23 04:00:00</td>\n",
       "    </tr>\n",
       "    <tr>\n",
       "      <th>2018-06-23 08:00:00</th>\n",
       "      <td>A002</td>\n",
       "      <td>R051</td>\n",
       "      <td>02-00-00</td>\n",
       "      <td>59 ST</td>\n",
       "      <td>NQR456W</td>\n",
       "      <td>BMT</td>\n",
       "      <td>06/23/2018</td>\n",
       "      <td>08:00:00</td>\n",
       "      <td>REGULAR</td>\n",
       "      <td>6667189</td>\n",
       "      <td>2259938</td>\n",
       "      <td>2018-06-23 08:00:00</td>\n",
       "    </tr>\n",
       "    <tr>\n",
       "      <th>2018-06-23 12:00:00</th>\n",
       "      <td>A002</td>\n",
       "      <td>R051</td>\n",
       "      <td>02-00-00</td>\n",
       "      <td>59 ST</td>\n",
       "      <td>NQR456W</td>\n",
       "      <td>BMT</td>\n",
       "      <td>06/23/2018</td>\n",
       "      <td>12:00:00</td>\n",
       "      <td>REGULAR</td>\n",
       "      <td>6667305</td>\n",
       "      <td>2260006</td>\n",
       "      <td>2018-06-23 12:00:00</td>\n",
       "    </tr>\n",
       "    <tr>\n",
       "      <th>2018-06-23 16:00:00</th>\n",
       "      <td>A002</td>\n",
       "      <td>R051</td>\n",
       "      <td>02-00-00</td>\n",
       "      <td>59 ST</td>\n",
       "      <td>NQR456W</td>\n",
       "      <td>BMT</td>\n",
       "      <td>06/23/2018</td>\n",
       "      <td>16:00:00</td>\n",
       "      <td>REGULAR</td>\n",
       "      <td>6667534</td>\n",
       "      <td>2260066</td>\n",
       "      <td>2018-06-23 16:00:00</td>\n",
       "    </tr>\n",
       "  </tbody>\n",
       "</table>\n",
       "</div>"
      ],
      "text/plain": [
       "                      C/A  UNIT       SCP STATION LINENAME DIVISION  \\\n",
       "date_time                                                             \n",
       "2018-06-23 00:00:00  A002  R051  02-00-00   59 ST  NQR456W      BMT   \n",
       "2018-06-23 04:00:00  A002  R051  02-00-00   59 ST  NQR456W      BMT   \n",
       "2018-06-23 08:00:00  A002  R051  02-00-00   59 ST  NQR456W      BMT   \n",
       "2018-06-23 12:00:00  A002  R051  02-00-00   59 ST  NQR456W      BMT   \n",
       "2018-06-23 16:00:00  A002  R051  02-00-00   59 ST  NQR456W      BMT   \n",
       "\n",
       "                           DATE      TIME     DESC  ENTRIES  \\\n",
       "date_time                                                     \n",
       "2018-06-23 00:00:00  06/23/2018  00:00:00  REGULAR  6667150   \n",
       "2018-06-23 04:00:00  06/23/2018  04:00:00  REGULAR  6667173   \n",
       "2018-06-23 08:00:00  06/23/2018  08:00:00  REGULAR  6667189   \n",
       "2018-06-23 12:00:00  06/23/2018  12:00:00  REGULAR  6667305   \n",
       "2018-06-23 16:00:00  06/23/2018  16:00:00  REGULAR  6667534   \n",
       "\n",
       "                     EXITS                                                                 \\\n",
       "date_time                                                                                   \n",
       "2018-06-23 00:00:00                                            2259901                      \n",
       "2018-06-23 04:00:00                                            2259909                      \n",
       "2018-06-23 08:00:00                                            2259938                      \n",
       "2018-06-23 12:00:00                                            2260006                      \n",
       "2018-06-23 16:00:00                                            2260066                      \n",
       "\n",
       "                              date_time  \n",
       "date_time                                \n",
       "2018-06-23 00:00:00 2018-06-23 00:00:00  \n",
       "2018-06-23 04:00:00 2018-06-23 04:00:00  \n",
       "2018-06-23 08:00:00 2018-06-23 08:00:00  \n",
       "2018-06-23 12:00:00 2018-06-23 12:00:00  \n",
       "2018-06-23 16:00:00 2018-06-23 16:00:00  "
      ]
     },
     "execution_count": 8,
     "metadata": {},
     "output_type": "execute_result"
    }
   ],
   "source": [
    "data.index = data['date_time']\n",
    "data.head()"
   ]
  },
  {
   "cell_type": "markdown",
   "metadata": {},
   "source": [
    "#3: Time Intervals"
   ]
  },
  {
   "cell_type": "code",
   "execution_count": 79,
   "metadata": {},
   "outputs": [
    {
     "data": {
      "text/plain": [
       "2018-06-26 16:00:00    2442\n",
       "2018-06-25 00:00:00    2442\n",
       "2018-06-24 08:00:00    2441\n",
       "2018-06-24 00:00:00    2441\n",
       "2018-06-23 16:00:00    2441\n",
       "Name: date_time, dtype: int64"
      ]
     },
     "execution_count": 79,
     "metadata": {},
     "output_type": "execute_result"
    }
   ],
   "source": [
    "data[(data['DESC']=='REGULAR')].date_time.value_counts().head()"
   ]
  },
  {
   "cell_type": "markdown",
   "metadata": {},
   "source": [
    "the data description was inaccurate. most of the data is collected every 4 hours on the hour, but there are plenty of outliers. Now, we're investigating the day frequency."
   ]
  },
  {
   "cell_type": "code",
   "execution_count": 80,
   "metadata": {},
   "outputs": [
    {
     "data": {
      "text/plain": [
       "06/25/2018    28099\n",
       "06/23/2018    28072\n",
       "06/26/2018    28055\n",
       "06/24/2018    28037\n",
       "06/27/2018    27994\n",
       "06/28/2018    27972\n",
       "06/29/2018    27876\n",
       "Name: DATE, dtype: int64"
      ]
     },
     "execution_count": 80,
     "metadata": {},
     "output_type": "execute_result"
    }
   ],
   "source": [
    "data[(data['DESC']=='REGULAR')].DATE.value_counts()"
   ]
  },
  {
   "cell_type": "markdown",
   "metadata": {},
   "source": [
    "Identifying unique turnstiles:"
   ]
  },
  {
   "cell_type": "code",
   "execution_count": 9,
   "metadata": {
    "collapsed": true
   },
   "outputs": [],
   "source": [
    "data['turnstile_id'] = data['STATION']+'_'+data['C/A']+'_'+data['UNIT']+'_'+data['SCP']"
   ]
  },
  {
   "cell_type": "code",
   "execution_count": 82,
   "metadata": {},
   "outputs": [
    {
     "data": {
      "text/html": [
       "<div>\n",
       "<style scoped>\n",
       "    .dataframe tbody tr th:only-of-type {\n",
       "        vertical-align: middle;\n",
       "    }\n",
       "\n",
       "    .dataframe tbody tr th {\n",
       "        vertical-align: top;\n",
       "    }\n",
       "\n",
       "    .dataframe thead th {\n",
       "        text-align: right;\n",
       "    }\n",
       "</style>\n",
       "<table border=\"1\" class=\"dataframe\">\n",
       "  <thead>\n",
       "    <tr style=\"text-align: right;\">\n",
       "      <th></th>\n",
       "      <th>C/A</th>\n",
       "      <th>UNIT</th>\n",
       "      <th>SCP</th>\n",
       "      <th>STATION</th>\n",
       "      <th>LINENAME</th>\n",
       "      <th>DIVISION</th>\n",
       "      <th>DATE</th>\n",
       "      <th>TIME</th>\n",
       "      <th>DESC</th>\n",
       "      <th>ENTRIES</th>\n",
       "      <th>EXITS</th>\n",
       "      <th>date_time</th>\n",
       "      <th>turnstile_id</th>\n",
       "    </tr>\n",
       "    <tr>\n",
       "      <th>date_time</th>\n",
       "      <th></th>\n",
       "      <th></th>\n",
       "      <th></th>\n",
       "      <th></th>\n",
       "      <th></th>\n",
       "      <th></th>\n",
       "      <th></th>\n",
       "      <th></th>\n",
       "      <th></th>\n",
       "      <th></th>\n",
       "      <th></th>\n",
       "      <th></th>\n",
       "      <th></th>\n",
       "    </tr>\n",
       "  </thead>\n",
       "  <tbody>\n",
       "    <tr>\n",
       "      <th>2018-06-23 00:00:00</th>\n",
       "      <td>A002</td>\n",
       "      <td>R051</td>\n",
       "      <td>02-00-00</td>\n",
       "      <td>59 ST</td>\n",
       "      <td>NQR456W</td>\n",
       "      <td>BMT</td>\n",
       "      <td>06/23/2018</td>\n",
       "      <td>00:00:00</td>\n",
       "      <td>REGULAR</td>\n",
       "      <td>6667150</td>\n",
       "      <td>2259901</td>\n",
       "      <td>2018-06-23 00:00:00</td>\n",
       "      <td>59 ST_A002_R051_02-00-00</td>\n",
       "    </tr>\n",
       "    <tr>\n",
       "      <th>2018-06-23 04:00:00</th>\n",
       "      <td>A002</td>\n",
       "      <td>R051</td>\n",
       "      <td>02-00-00</td>\n",
       "      <td>59 ST</td>\n",
       "      <td>NQR456W</td>\n",
       "      <td>BMT</td>\n",
       "      <td>06/23/2018</td>\n",
       "      <td>04:00:00</td>\n",
       "      <td>REGULAR</td>\n",
       "      <td>6667173</td>\n",
       "      <td>2259909</td>\n",
       "      <td>2018-06-23 04:00:00</td>\n",
       "      <td>59 ST_A002_R051_02-00-00</td>\n",
       "    </tr>\n",
       "    <tr>\n",
       "      <th>2018-06-23 08:00:00</th>\n",
       "      <td>A002</td>\n",
       "      <td>R051</td>\n",
       "      <td>02-00-00</td>\n",
       "      <td>59 ST</td>\n",
       "      <td>NQR456W</td>\n",
       "      <td>BMT</td>\n",
       "      <td>06/23/2018</td>\n",
       "      <td>08:00:00</td>\n",
       "      <td>REGULAR</td>\n",
       "      <td>6667189</td>\n",
       "      <td>2259938</td>\n",
       "      <td>2018-06-23 08:00:00</td>\n",
       "      <td>59 ST_A002_R051_02-00-00</td>\n",
       "    </tr>\n",
       "    <tr>\n",
       "      <th>2018-06-23 12:00:00</th>\n",
       "      <td>A002</td>\n",
       "      <td>R051</td>\n",
       "      <td>02-00-00</td>\n",
       "      <td>59 ST</td>\n",
       "      <td>NQR456W</td>\n",
       "      <td>BMT</td>\n",
       "      <td>06/23/2018</td>\n",
       "      <td>12:00:00</td>\n",
       "      <td>REGULAR</td>\n",
       "      <td>6667305</td>\n",
       "      <td>2260006</td>\n",
       "      <td>2018-06-23 12:00:00</td>\n",
       "      <td>59 ST_A002_R051_02-00-00</td>\n",
       "    </tr>\n",
       "    <tr>\n",
       "      <th>2018-06-23 16:00:00</th>\n",
       "      <td>A002</td>\n",
       "      <td>R051</td>\n",
       "      <td>02-00-00</td>\n",
       "      <td>59 ST</td>\n",
       "      <td>NQR456W</td>\n",
       "      <td>BMT</td>\n",
       "      <td>06/23/2018</td>\n",
       "      <td>16:00:00</td>\n",
       "      <td>REGULAR</td>\n",
       "      <td>6667534</td>\n",
       "      <td>2260066</td>\n",
       "      <td>2018-06-23 16:00:00</td>\n",
       "      <td>59 ST_A002_R051_02-00-00</td>\n",
       "    </tr>\n",
       "  </tbody>\n",
       "</table>\n",
       "</div>"
      ],
      "text/plain": [
       "                      C/A  UNIT       SCP STATION LINENAME DIVISION  \\\n",
       "date_time                                                             \n",
       "2018-06-23 00:00:00  A002  R051  02-00-00   59 ST  NQR456W      BMT   \n",
       "2018-06-23 04:00:00  A002  R051  02-00-00   59 ST  NQR456W      BMT   \n",
       "2018-06-23 08:00:00  A002  R051  02-00-00   59 ST  NQR456W      BMT   \n",
       "2018-06-23 12:00:00  A002  R051  02-00-00   59 ST  NQR456W      BMT   \n",
       "2018-06-23 16:00:00  A002  R051  02-00-00   59 ST  NQR456W      BMT   \n",
       "\n",
       "                           DATE      TIME     DESC  ENTRIES  \\\n",
       "date_time                                                     \n",
       "2018-06-23 00:00:00  06/23/2018  00:00:00  REGULAR  6667150   \n",
       "2018-06-23 04:00:00  06/23/2018  04:00:00  REGULAR  6667173   \n",
       "2018-06-23 08:00:00  06/23/2018  08:00:00  REGULAR  6667189   \n",
       "2018-06-23 12:00:00  06/23/2018  12:00:00  REGULAR  6667305   \n",
       "2018-06-23 16:00:00  06/23/2018  16:00:00  REGULAR  6667534   \n",
       "\n",
       "                     EXITS                                                                 \\\n",
       "date_time                                                                                   \n",
       "2018-06-23 00:00:00                                            2259901                      \n",
       "2018-06-23 04:00:00                                            2259909                      \n",
       "2018-06-23 08:00:00                                            2259938                      \n",
       "2018-06-23 12:00:00                                            2260006                      \n",
       "2018-06-23 16:00:00                                            2260066                      \n",
       "\n",
       "                              date_time              turnstile_id  \n",
       "date_time                                                          \n",
       "2018-06-23 00:00:00 2018-06-23 00:00:00  59 ST_A002_R051_02-00-00  \n",
       "2018-06-23 04:00:00 2018-06-23 04:00:00  59 ST_A002_R051_02-00-00  \n",
       "2018-06-23 08:00:00 2018-06-23 08:00:00  59 ST_A002_R051_02-00-00  \n",
       "2018-06-23 12:00:00 2018-06-23 12:00:00  59 ST_A002_R051_02-00-00  \n",
       "2018-06-23 16:00:00 2018-06-23 16:00:00  59 ST_A002_R051_02-00-00  "
      ]
     },
     "execution_count": 82,
     "metadata": {},
     "output_type": "execute_result"
    }
   ],
   "source": [
    "data.head()"
   ]
  },
  {
   "cell_type": "code",
   "execution_count": 87,
   "metadata": {},
   "outputs": [
    {
     "data": {
      "text/plain": [
       "<matplotlib.axes._subplots.AxesSubplot at 0x7fe2fba65160>"
      ]
     },
     "execution_count": 87,
     "metadata": {},
     "output_type": "execute_result"
    },
    {
     "data": {
      "image/png": "[encoded data removed]",
      "text/plain": [
       "<matplotlib.figure.Figure at 0x7fe2fc46af98>"
      ]
     },
     "metadata": {},
     "output_type": "display_data"
    }
   ],
   "source": [
    "data[(data['turnstile_id']=='59 ST_A002_R051_02-00-00')].ENTRIES.plot.line()"
   ]
  },
  {
   "cell_type": "markdown",
   "metadata": {},
   "source": [
    "we see from this plot that turnstile entry/exit data is cumulative over all time."
   ]
  },
  {
   "cell_type": "code",
   "execution_count": 14,
   "metadata": {
    "collapsed": true
   },
   "outputs": [],
   "source": [
    "def difference(srs):\n",
    "    return srs.max() - srs.min()"
   ]
  },
  {
   "cell_type": "code",
   "execution_count": 11,
   "metadata": {},
   "outputs": [],
   "source": [
    "df_daily = data.groupby(by=['turnstile_id', 'DATE']).agg(difference)"
   ]
  },
  {
   "cell_type": "code",
   "execution_count": 12,
   "metadata": {},
   "outputs": [
    {
     "data": {
      "text/html": [
       "<div>\n",
       "<style scoped>\n",
       "    .dataframe tbody tr th:only-of-type {\n",
       "        vertical-align: middle;\n",
       "    }\n",
       "\n",
       "    .dataframe tbody tr th {\n",
       "        vertical-align: top;\n",
       "    }\n",
       "\n",
       "    .dataframe thead th {\n",
       "        text-align: right;\n",
       "    }\n",
       "</style>\n",
       "<table border=\"1\" class=\"dataframe\">\n",
       "  <thead>\n",
       "    <tr style=\"text-align: right;\">\n",
       "      <th></th>\n",
       "      <th></th>\n",
       "      <th>ENTRIES</th>\n",
       "      <th>EXITS</th>\n",
       "      <th>date_time</th>\n",
       "    </tr>\n",
       "    <tr>\n",
       "      <th>turnstile_id</th>\n",
       "      <th>DATE</th>\n",
       "      <th></th>\n",
       "      <th></th>\n",
       "      <th></th>\n",
       "    </tr>\n",
       "  </thead>\n",
       "  <tbody>\n",
       "    <tr>\n",
       "      <th rowspan=\"5\" valign=\"top\">1 AV_H007_R248_00-00-00</th>\n",
       "      <th>06/23/2018</th>\n",
       "      <td>2132</td>\n",
       "      <td>3721</td>\n",
       "      <td>20:00:00</td>\n",
       "    </tr>\n",
       "    <tr>\n",
       "      <th>06/24/2018</th>\n",
       "      <td>2393</td>\n",
       "      <td>2991</td>\n",
       "      <td>20:00:00</td>\n",
       "    </tr>\n",
       "    <tr>\n",
       "      <th>06/25/2018</th>\n",
       "      <td>3266</td>\n",
       "      <td>3709</td>\n",
       "      <td>20:00:00</td>\n",
       "    </tr>\n",
       "    <tr>\n",
       "      <th>06/26/2018</th>\n",
       "      <td>3467</td>\n",
       "      <td>3813</td>\n",
       "      <td>20:00:00</td>\n",
       "    </tr>\n",
       "    <tr>\n",
       "      <th>06/27/2018</th>\n",
       "      <td>3538</td>\n",
       "      <td>3671</td>\n",
       "      <td>20:00:00</td>\n",
       "    </tr>\n",
       "  </tbody>\n",
       "</table>\n",
       "</div>"
      ],
      "text/plain": [
       "                                    ENTRIES  \\\n",
       "turnstile_id            DATE                  \n",
       "1 AV_H007_R248_00-00-00 06/23/2018     2132   \n",
       "                        06/24/2018     2393   \n",
       "                        06/25/2018     3266   \n",
       "                        06/26/2018     3467   \n",
       "                        06/27/2018     3538   \n",
       "\n",
       "                                    EXITS                                                                 \\\n",
       "turnstile_id            DATE                                                                               \n",
       "1 AV_H007_R248_00-00-00 06/23/2018                                               3721                      \n",
       "                        06/24/2018                                               2991                      \n",
       "                        06/25/2018                                               3709                      \n",
       "                        06/26/2018                                               3813                      \n",
       "                        06/27/2018                                               3671                      \n",
       "\n",
       "                                   date_time  \n",
       "turnstile_id            DATE                  \n",
       "1 AV_H007_R248_00-00-00 06/23/2018  20:00:00  \n",
       "                        06/24/2018  20:00:00  \n",
       "                        06/25/2018  20:00:00  \n",
       "                        06/26/2018  20:00:00  \n",
       "                        06/27/2018  20:00:00  "
      ]
     },
     "execution_count": 12,
     "metadata": {},
     "output_type": "execute_result"
    }
   ],
   "source": [
    "df_daily.head()"
   ]
  },
  {
   "cell_type": "code",
   "execution_count": 30,
   "metadata": {},
   "outputs": [],
   "source": [
    "by_station =  data.groupby(by=['STATION','turnstile_id', 'DATE']).agg(difference)"
   ]
  },
  {
   "cell_type": "code",
   "execution_count": 34,
   "metadata": {},
   "outputs": [],
   "source": [
    "daily_totals = by_station.groupby(by=['STATION','DATE']).sum()"
   ]
  },
  {
   "cell_type": "code",
   "execution_count": 46,
   "metadata": {},
   "outputs": [
    {
     "ename": "ValueError",
     "evalue": "cannot insert level_0, already exists",
     "output_type": "error",
     "traceback": [
      "\u001b[1;31m---------------------------------------------------------------------------\u001b[0m",
      "\u001b[1;31mValueError\u001b[0m                                Traceback (most recent call last)",
      "\u001b[1;32m<ipython-input-46-89a383096e4f>\u001b[0m in \u001b[0;36m<module>\u001b[1;34m()\u001b[0m\n\u001b[0;32m      1\u001b[0m \u001b[1;33m\u001b[0m\u001b[0m\n\u001b[1;32m----> 2\u001b[1;33m \u001b[0mdaily_totals\u001b[0m\u001b[1;33m.\u001b[0m\u001b[0mreset_index\u001b[0m\u001b[1;33m(\u001b[0m\u001b[0minplace\u001b[0m\u001b[1;33m=\u001b[0m\u001b[1;32mTrue\u001b[0m\u001b[1;33m)\u001b[0m\u001b[1;33m\u001b[0m\u001b[0m\n\u001b[0m\u001b[0;32m      3\u001b[0m \u001b[0mdaily_totals\u001b[0m\u001b[1;33m[\u001b[0m\u001b[1;34m\"DATE\"\u001b[0m\u001b[1;33m]\u001b[0m \u001b[1;33m=\u001b[0m \u001b[0mpd\u001b[0m\u001b[1;33m.\u001b[0m\u001b[0mto_datetime\u001b[0m\u001b[1;33m(\u001b[0m\u001b[0mdaily_totals\u001b[0m\u001b[1;33m[\u001b[0m\u001b[1;34m\"DATE\"\u001b[0m\u001b[1;33m]\u001b[0m\u001b[1;33m)\u001b[0m\u001b[1;33m\u001b[0m\u001b[0m\n\u001b[0;32m      4\u001b[0m \u001b[0mprint\u001b[0m\u001b[1;33m(\u001b[0m\u001b[0mdaily_totals\u001b[0m\u001b[1;33m)\u001b[0m\u001b[1;33m\u001b[0m\u001b[0m\n",
      "\u001b[1;32mC:\\Users\\Aditya\\Anaconda3\\lib\\site-packages\\pandas\\core\\frame.py\u001b[0m in \u001b[0;36mreset_index\u001b[1;34m(self, level, drop, inplace, col_level, col_fill)\u001b[0m\n\u001b[0;32m   3377\u001b[0m                 \u001b[1;31m# to ndarray and maybe infer different dtype\u001b[0m\u001b[1;33m\u001b[0m\u001b[1;33m\u001b[0m\u001b[0m\n\u001b[0;32m   3378\u001b[0m                 \u001b[0mlevel_values\u001b[0m \u001b[1;33m=\u001b[0m \u001b[0m_maybe_casted_values\u001b[0m\u001b[1;33m(\u001b[0m\u001b[0mlev\u001b[0m\u001b[1;33m,\u001b[0m \u001b[0mlab\u001b[0m\u001b[1;33m)\u001b[0m\u001b[1;33m\u001b[0m\u001b[0m\n\u001b[1;32m-> 3379\u001b[1;33m                 \u001b[0mnew_obj\u001b[0m\u001b[1;33m.\u001b[0m\u001b[0minsert\u001b[0m\u001b[1;33m(\u001b[0m\u001b[1;36m0\u001b[0m\u001b[1;33m,\u001b[0m \u001b[0mname\u001b[0m\u001b[1;33m,\u001b[0m \u001b[0mlevel_values\u001b[0m\u001b[1;33m)\u001b[0m\u001b[1;33m\u001b[0m\u001b[0m\n\u001b[0m\u001b[0;32m   3380\u001b[0m \u001b[1;33m\u001b[0m\u001b[0m\n\u001b[0;32m   3381\u001b[0m         \u001b[0mnew_obj\u001b[0m\u001b[1;33m.\u001b[0m\u001b[0mindex\u001b[0m \u001b[1;33m=\u001b[0m \u001b[0mnew_index\u001b[0m\u001b[1;33m\u001b[0m\u001b[0m\n",
      "\u001b[1;32mC:\\Users\\Aditya\\Anaconda3\\lib\\site-packages\\pandas\\core\\frame.py\u001b[0m in \u001b[0;36minsert\u001b[1;34m(self, loc, column, value, allow_duplicates)\u001b[0m\n\u001b[0;32m   2611\u001b[0m         \u001b[0mvalue\u001b[0m \u001b[1;33m=\u001b[0m \u001b[0mself\u001b[0m\u001b[1;33m.\u001b[0m\u001b[0m_sanitize_column\u001b[0m\u001b[1;33m(\u001b[0m\u001b[0mcolumn\u001b[0m\u001b[1;33m,\u001b[0m \u001b[0mvalue\u001b[0m\u001b[1;33m,\u001b[0m \u001b[0mbroadcast\u001b[0m\u001b[1;33m=\u001b[0m\u001b[1;32mFalse\u001b[0m\u001b[1;33m)\u001b[0m\u001b[1;33m\u001b[0m\u001b[0m\n\u001b[0;32m   2612\u001b[0m         self._data.insert(loc, column, value,\n\u001b[1;32m-> 2613\u001b[1;33m                           allow_duplicates=allow_duplicates)\n\u001b[0m\u001b[0;32m   2614\u001b[0m \u001b[1;33m\u001b[0m\u001b[0m\n\u001b[0;32m   2615\u001b[0m     \u001b[1;32mdef\u001b[0m \u001b[0massign\u001b[0m\u001b[1;33m(\u001b[0m\u001b[0mself\u001b[0m\u001b[1;33m,\u001b[0m \u001b[1;33m**\u001b[0m\u001b[0mkwargs\u001b[0m\u001b[1;33m)\u001b[0m\u001b[1;33m:\u001b[0m\u001b[1;33m\u001b[0m\u001b[0m\n",
      "\u001b[1;32mC:\\Users\\Aditya\\Anaconda3\\lib\\site-packages\\pandas\\core\\internals.py\u001b[0m in \u001b[0;36minsert\u001b[1;34m(self, loc, item, value, allow_duplicates)\u001b[0m\n\u001b[0;32m   4061\u001b[0m         \u001b[1;32mif\u001b[0m \u001b[1;32mnot\u001b[0m \u001b[0mallow_duplicates\u001b[0m \u001b[1;32mand\u001b[0m \u001b[0mitem\u001b[0m \u001b[1;32min\u001b[0m \u001b[0mself\u001b[0m\u001b[1;33m.\u001b[0m\u001b[0mitems\u001b[0m\u001b[1;33m:\u001b[0m\u001b[1;33m\u001b[0m\u001b[0m\n\u001b[0;32m   4062\u001b[0m             \u001b[1;31m# Should this be a different kind of error??\u001b[0m\u001b[1;33m\u001b[0m\u001b[1;33m\u001b[0m\u001b[0m\n\u001b[1;32m-> 4063\u001b[1;33m             \u001b[1;32mraise\u001b[0m \u001b[0mValueError\u001b[0m\u001b[1;33m(\u001b[0m\u001b[1;34m'cannot insert {}, already exists'\u001b[0m\u001b[1;33m.\u001b[0m\u001b[0mformat\u001b[0m\u001b[1;33m(\u001b[0m\u001b[0mitem\u001b[0m\u001b[1;33m)\u001b[0m\u001b[1;33m)\u001b[0m\u001b[1;33m\u001b[0m\u001b[0m\n\u001b[0m\u001b[0;32m   4064\u001b[0m \u001b[1;33m\u001b[0m\u001b[0m\n\u001b[0;32m   4065\u001b[0m         \u001b[1;32mif\u001b[0m \u001b[1;32mnot\u001b[0m \u001b[0misinstance\u001b[0m\u001b[1;33m(\u001b[0m\u001b[0mloc\u001b[0m\u001b[1;33m,\u001b[0m \u001b[0mint\u001b[0m\u001b[1;33m)\u001b[0m\u001b[1;33m:\u001b[0m\u001b[1;33m\u001b[0m\u001b[0m\n",
      "\u001b[1;31mValueError\u001b[0m: cannot insert level_0, already exists"
     ]
    }
   ],
   "source": [
    "\n",
    "daily_totals.reset_index(inplace=True)\n"
   ]
  },
  {
   "cell_type": "code",
   "execution_count": 47,
   "metadata": {},
   "outputs": [
    {
     "name": "stdout",
     "output_type": "stream",
     "text": [
      "      level_0  index          STATION       DATE  ENTRIES  \\\n",
      "0           0      0             1 AV 2018-06-23    13603   \n",
      "1           1      1             1 AV 2018-06-24    13664   \n",
      "2           2      2             1 AV 2018-06-25    16913   \n",
      "3           3      3             1 AV 2018-06-26    17616   \n",
      "4           4      4             1 AV 2018-06-27    17258   \n",
      "5           5      5             1 AV 2018-06-28    17511   \n",
      "6           6      6             1 AV 2018-06-29    17774   \n",
      "7           7      7           103 ST 2018-06-23    16652   \n",
      "8           8      8           103 ST 2018-06-24    15765   \n",
      "9           9      9           103 ST 2018-06-25    30342   \n",
      "10         10     10           103 ST 2018-06-26    31569   \n",
      "11         11     11           103 ST 2018-06-27    30260   \n",
      "12         12     12           103 ST 2018-06-28    26463   \n",
      "13         13     13           103 ST 2018-06-29    18072   \n",
      "14         14     14    103 ST-CORONA 2018-06-23    10242   \n",
      "15         15     15    103 ST-CORONA 2018-06-24     7818   \n",
      "16         16     16    103 ST-CORONA 2018-06-25    18416   \n",
      "17         17     17    103 ST-CORONA 2018-06-26    19239   \n",
      "18         18     18    103 ST-CORONA 2018-06-27    18368   \n",
      "19         19     19    103 ST-CORONA 2018-06-28    17740   \n",
      "20         20     20    103 ST-CORONA 2018-06-29    18317   \n",
      "21         21     21           104 ST 2018-06-23     1973   \n",
      "22         22     22           104 ST 2018-06-24     1477   \n",
      "23         23     23           104 ST 2018-06-25     3921   \n",
      "24         24     24           104 ST 2018-06-26     4123   \n",
      "25         25     25           104 ST 2018-06-27     3992   \n",
      "26         26     26           104 ST 2018-06-28     3757   \n",
      "27         27     27           104 ST 2018-06-29     3784   \n",
      "28         28     28           110 ST 2018-06-23     4260   \n",
      "29         29     29           110 ST 2018-06-24     4602   \n",
      "...       ...    ...              ...        ...      ...   \n",
      "2605     2605   2605   WOODHAVEN BLVD 2018-06-28    22742   \n",
      "2606     2606   2606   WOODHAVEN BLVD 2018-06-29    23451   \n",
      "2607     2607   2607         WOODLAWN 2018-06-23     3754   \n",
      "2608     2608   2608         WOODLAWN 2018-06-24     3117   \n",
      "2609     2609   2609         WOODLAWN 2018-06-25     6613   \n",
      "2610     2610   2610         WOODLAWN 2018-06-26     6775   \n",
      "2611     2611   2611         WOODLAWN 2018-06-27     6480   \n",
      "2612     2612   2612         WOODLAWN 2018-06-28     6325   \n",
      "2613     2613   2613         WOODLAWN 2018-06-29     6571   \n",
      "2614     2614   2614  WORLD TRADE CTR 2018-06-23     6948   \n",
      "2615     2615   2615  WORLD TRADE CTR 2018-06-24     5787   \n",
      "2616     2616   2616  WORLD TRADE CTR 2018-06-25    18235   \n",
      "2617     2617   2617  WORLD TRADE CTR 2018-06-26    17909   \n",
      "2618     2618   2618  WORLD TRADE CTR 2018-06-27    17636   \n",
      "2619     2619   2619  WORLD TRADE CTR 2018-06-28    18451   \n",
      "2620     2620   2620  WORLD TRADE CTR 2018-06-29    17683   \n",
      "2621     2621   2621          YORK ST 2018-06-23     4622   \n",
      "2622     2622   2622          YORK ST 2018-06-24     5586   \n",
      "2623     2623   2623          YORK ST 2018-06-25    10722   \n",
      "2624     2624   2624          YORK ST 2018-06-26    11047   \n",
      "2625     2625   2625          YORK ST 2018-06-27    10799   \n",
      "2626     2626   2626          YORK ST 2018-06-28    10853   \n",
      "2627     2627   2627          YORK ST 2018-06-29    10644   \n",
      "2628     2628   2628        ZEREGA AV 2018-06-23     1190   \n",
      "2629     2629   2629        ZEREGA AV 2018-06-24     1079   \n",
      "2630     2630   2630        ZEREGA AV 2018-06-25     2522   \n",
      "2631     2631   2631        ZEREGA AV 2018-06-26     2582   \n",
      "2632     2632   2632        ZEREGA AV 2018-06-27     2462   \n",
      "2633     2633   2633        ZEREGA AV 2018-06-28     2439   \n",
      "2634     2634   2634        ZEREGA AV 2018-06-29     2318   \n",
      "\n",
      "      EXITS                                                                 \n",
      "0                                                 15596                     \n",
      "1                                                 15165                     \n",
      "2                                                 18654                     \n",
      "3                                                 19883                     \n",
      "4                                                 18991                     \n",
      "5                                                 18810                     \n",
      "6                                                 19635                     \n",
      "7                                                 11334                     \n",
      "8                                                 10449                     \n",
      "9                                                 19776                     \n",
      "10                                                19978                     \n",
      "11                                                19010                     \n",
      "12                                                15455                     \n",
      "13                                                 8786                     \n",
      "14                                                 8879                     \n",
      "15                                                 7305                     \n",
      "16                                                11087                     \n",
      "17                                                11716                     \n",
      "18                                                10829                     \n",
      "19                                                10685                     \n",
      "20                                                10832                     \n",
      "21                                                  790                     \n",
      "22                                                  649                     \n",
      "23                                                 1469                     \n",
      "24                                                 1610                     \n",
      "25                                                 1493                     \n",
      "26                                                 1543                     \n",
      "27                                                 1469                     \n",
      "28                                                 3820                     \n",
      "29                                                 4136                     \n",
      "...                                                 ...                     \n",
      "2605                                              11888                     \n",
      "2606                                              12910                     \n",
      "2607                                                934                     \n",
      "2608                                                947                     \n",
      "2609                                               1339                     \n",
      "2610                                               1461                     \n",
      "2611                                               1329                     \n",
      "2612                                               1296                     \n",
      "2613                                               1392                     \n",
      "2614                                               3453                     \n",
      "2615                                               2904                     \n",
      "2616                                              14064                     \n",
      "2617                                              13890                     \n",
      "2618                                              13534                     \n",
      "2619                                              14710                     \n",
      "2620                                              13897                     \n",
      "2621                                               2953                     \n",
      "2622                                               3593                     \n",
      "2623                                               4153                     \n",
      "2624                                               4570                     \n",
      "2625                                               4420                     \n",
      "2626                                               4444                     \n",
      "2627                                               4877                     \n",
      "2628                                               1022                     \n",
      "2629                                                985                     \n",
      "2630                                               2109                     \n",
      "2631                                               2251                     \n",
      "2632                                               2049                     \n",
      "2633                                               1974                     \n",
      "2634                                               1911                     \n",
      "\n",
      "[2635 rows x 6 columns]\n"
     ]
    }
   ],
   "source": [
    "daily_totals[\"DATE\"] = pd.to_datetime(daily_totals[\"DATE\"])\n",
    "print(daily_totals)"
   ]
  },
  {
   "cell_type": "code",
   "execution_count": 48,
   "metadata": {},
   "outputs": [
    {
     "data": {
      "text/plain": [
       "(array([736868., 736869., 736870., 736871., 736872., 736873., 736874.]),\n",
       " <a list of 7 Text xticklabel objects>)"
      ]
     },
     "execution_count": 48,
     "metadata": {},
     "output_type": "execute_result"
    },
    {
     "data": {
      "image/png": "[encoded data removed]",
      "text/plain": [
       "<matplotlib.figure.Figure at 0x12b136afc88>"
      ]
     },
     "metadata": {},
     "output_type": "display_data"
    }
   ],
   "source": [
    "import matplotlib.pyplot as plt\n",
    "daily_onestation = daily_totals[daily_totals[\"STATION\"]=='103 ST']\n",
    "plt.plot(daily_onestation[\"DATE\"], daily_onestation[\"ENTRIES\"] )\n",
    "plt.xticks(rotation = 'vertical')"
   ]
  },
  {
   "cell_type": "markdown",
   "metadata": {},
   "source": [
    "### Looking at data from one sattion over one week (103 St). We find traffic is relatively low on weekends and higher on weekdays"
   ]
  },
  {
   "cell_type": "code",
   "execution_count": null,
   "metadata": {
    "collapsed": true
   },
   "outputs": [],
   "source": []
  }
 ],
 "metadata": {
  "kernelspec": {
   "display_name": "Python 3",
   "language": "python",
   "name": "python3"
  }
 },
 "nbformat": 4,
 "nbformat_minor": 2
}
